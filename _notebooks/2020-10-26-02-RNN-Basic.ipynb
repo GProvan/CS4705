{
  "cells": [
    {
      "cell_type": "markdown",
      "metadata": {
        "id": "view-in-github",
        "colab_type": "text"
      },
      "source": [
        "<a href=\"https://colab.research.google.com/github/GProvan/CS4705/blob/main/_notebooks/2020-10-26-02-RNN-Basic.ipynb\" target=\"_parent\"><img src=\"https://colab.research.google.com/assets/colab-badge.svg\" alt=\"Open In Colab\"/></a>"
      ]
    },
    {
      "cell_type": "markdown",
      "metadata": {
        "id": "spi2yoFndAn5"
      },
      "source": [
        "# RNN Basic\n",
        "> In this post, We will briefly cover the Recurrent Neural Network (RNN) and its implementation in tensorflow.\n",
        "\n",
        "- toc: true\n",
        "- badges: true\n",
        "- comments: true\n",
        "- author: Chanseok Kang\n",
        "- categories: [Python, Deep_Learning, Tensorflow-Keras]\n",
        "- image: images/simpleRNN.png"
      ]
    },
    {
      "cell_type": "code",
      "execution_count": 1,
      "metadata": {
        "id": "fSsC748GdAn7",
        "outputId": "fbc1c486-9ac8-433b-8403-27c3f4cb52d3",
        "colab": {
          "base_uri": "https://localhost:8080/"
        }
      },
      "outputs": [
        {
          "output_type": "stream",
          "name": "stdout",
          "text": [
            "Tensorflow: 2.17.0\n"
          ]
        }
      ],
      "source": [
        "import tensorflow as tf\n",
        "import numpy as np\n",
        "import matplotlib.pyplot as plt\n",
        "import pandas as pd\n",
        "\n",
        "print('Tensorflow: {}'.format(tf.__version__))\n",
        "\n",
        "plt.rcParams['figure.figsize'] = (16, 10)\n",
        "plt.rc('font', size=15)"
      ]
    },
    {
      "cell_type": "markdown",
      "metadata": {
        "id": "vTIWn0LEdAn8"
      },
      "source": [
        "## RNN in Tensorflow\n",
        "Recurrent Neural Network (RNN for short) is the neural network that has backward stream into input node. Simple notation is expressed like this,\n",
        "\n",
        "![RNN](https://github.com/goodboychan/goodboychan.github.io/blob/main/_notebooks/image/simpleRNN.png?raw=1)\n",
        "\n",
        "And it is implemented in Tensorflow (of course, it can be easily used with tensorflow keras). There are two implementation approaches,\n",
        "\n",
        "- Using basic cell (`SimpleRNNCell`) and merge it with multiple elements to build complex model like Long Short Term Mermory (LSTM) or Gated Recurrent Unit (GRU)\n",
        "\n",
        "```python\n",
        "cell = tf.keras.layers.SimpleRNNCell(units=hidden_size)\n",
        "rnn = tf.keras.layers.RNN(cell, return_sequences=True, return_state=True)\n",
        "outputs, states = rnn(X_data)\n",
        "```\n",
        "\n",
        "- Using RNN Layer (`SimpleRNN`)\n",
        "\n",
        "```python\n",
        "rnn = tf.keras.layers.SimpleRNN(units=hidden_size, return_sequences=True,\n",
        "                                return_state=True)\n",
        "outputs, states = rnn(X_data)\n",
        "```"
      ]
    },
    {
      "cell_type": "markdown",
      "metadata": {
        "id": "Utj4QTVLdAn9"
      },
      "source": [
        "## Simple RNN Cell\n",
        "Let's look at more closely with example. Suppose that we want to train RNN that can generate the word \"hello\". Of course, the model cannot interpret word itself, so it is required to convert it with one-hot encoding. Currently, \"Hello\" is the word with 4 characters, \"h\", \"e\", \"l\", \"o\". So we can define each character with one-hot expression."
      ]
    },
    {
      "cell_type": "code",
      "execution_count": 2,
      "metadata": {
        "id": "DXA5VxHQdAn9"
      },
      "outputs": [],
      "source": [
        "h = [1, 0, 0, 0]\n",
        "e = [0, 1, 0, 0]\n",
        "l = [0, 0, 1, 0]\n",
        "o = [0, 0, 0, 1]"
      ]
    },
    {
      "cell_type": "markdown",
      "metadata": {
        "id": "khX9bu_OdAn9"
      },
      "source": [
        "In tensorflow, to insert this data, we need to reshape like this order:\n",
        "\n",
        "$$ (\\text{batch_size}, \\text{sequence_length}, \\text{sequence_width}) $$\n",
        "\n",
        "If we want to insert one-hot encoded `h` in RNN as an input, we can make it with numpy array,"
      ]
    },
    {
      "cell_type": "code",
      "execution_count": 3,
      "metadata": {
        "id": "dzFGxLgodAn9",
        "outputId": "be754456-1be5-487f-8ff1-f71b0899cf4d",
        "colab": {
          "base_uri": "https://localhost:8080/"
        }
      },
      "outputs": [
        {
          "output_type": "execute_result",
          "data": {
            "text/plain": [
              "(1, 1, 4)"
            ]
          },
          "metadata": {},
          "execution_count": 3
        }
      ],
      "source": [
        "X_data = np.array([[h]], dtype=np.float32)\n",
        "X_data.shape"
      ]
    },
    {
      "cell_type": "markdown",
      "metadata": {
        "id": "0E_PZ8-3dAn-"
      },
      "source": [
        "Then, we can make RNN cell with hidden_size of 2."
      ]
    },
    {
      "cell_type": "code",
      "execution_count": 4,
      "metadata": {
        "id": "RNppf_cOdAn-",
        "outputId": "4c18fa30-9187-471f-a248-70491cf52887",
        "colab": {
          "base_uri": "https://localhost:8080/"
        }
      },
      "outputs": [
        {
          "output_type": "stream",
          "name": "stdout",
          "text": [
            "X_data: [[[1. 0. 0. 0.]]], shape: (1, 1, 4)\n",
            "output: [[[-0.56661063  0.724539  ]]], shape: (1, 1, 2)\n",
            "states: [[-0.56661063  0.724539  ]], shape: (1, 2)\n"
          ]
        }
      ],
      "source": [
        "hidden_size = 2\n",
        "cell = tf.keras.layers.SimpleRNNCell(units=hidden_size)\n",
        "rnn = tf.keras.layers.RNN(cell, return_sequences=True, return_state=True)\n",
        "outputs, states = rnn(X_data)\n",
        "\n",
        "print(\"X_data: {}, shape: {}\".format(X_data, X_data.shape))\n",
        "print(\"output: {}, shape: {}\".format(outputs, outputs.shape))\n",
        "print(\"states: {}, shape: {}\".format(states, states.shape))"
      ]
    },
    {
      "cell_type": "markdown",
      "metadata": {
        "id": "Rm5-efNmdAn-"
      },
      "source": [
        "Mentioned before, we can also build it with layer API."
      ]
    },
    {
      "cell_type": "code",
      "execution_count": 5,
      "metadata": {
        "id": "oUcYSaoPdAn_",
        "outputId": "4da2aa24-6a1f-4710-bb00-209d40f2acc5",
        "colab": {
          "base_uri": "https://localhost:8080/"
        }
      },
      "outputs": [
        {
          "output_type": "stream",
          "name": "stdout",
          "text": [
            "X_data: [[[1. 0. 0. 0.]]], shape: (1, 1, 4)\n",
            "output: [[[ 0.74435496 -0.29972216]]], shape: (1, 1, 2)\n",
            "states: [[ 0.74435496 -0.29972216]], shape: (1, 2)\n"
          ]
        }
      ],
      "source": [
        "rnn_2 = tf.keras.layers.SimpleRNN(units=hidden_size, return_sequences=True, return_state=True)\n",
        "outputs, states = rnn_2(X_data)\n",
        "\n",
        "print(\"X_data: {}, shape: {}\".format(X_data, X_data.shape))\n",
        "print(\"output: {}, shape: {}\".format(outputs, outputs.shape))\n",
        "print(\"states: {}, shape: {}\".format(states, states.shape))"
      ]
    },
    {
      "cell_type": "markdown",
      "metadata": {
        "id": "TLaqAfuFdAn_"
      },
      "source": [
        "## Unfolding multiple sequences\n",
        "But in above example, the output is meaningless. RNN is neural network for sequence data, but we just insert 1-sequence data. In order to understand the RNN operation, we need to insert multiple-length sequences.\n",
        "\n",
        "![rnn_example](https://github.com/goodboychan/goodboychan.github.io/blob/main/_notebooks/image/rnn_example1.png?raw=1)\n",
        "\n",
        "In this case, we will insert 5-length sequences. So input data shape will be like this,\n",
        "\n",
        "$$ (1, 5, 4) $$\n",
        "\n",
        "Currently, we just use 1 batch, and 5-length sequence, and our data have 4 width after one-hot encoding. If the hidden size is 2, then the output shape is aligned to hidden_size.\n",
        "\n",
        "Anyway, Our input data will be like this,"
      ]
    },
    {
      "cell_type": "code",
      "execution_count": 6,
      "metadata": {
        "id": "roIQtq3pdAn_",
        "outputId": "f6c59175-00fc-4382-cffb-217aa80ce441",
        "colab": {
          "base_uri": "https://localhost:8080/"
        }
      },
      "outputs": [
        {
          "output_type": "execute_result",
          "data": {
            "text/plain": [
              "(1, 5, 4)"
            ]
          },
          "metadata": {},
          "execution_count": 6
        }
      ],
      "source": [
        "X_data = np.array([[h, e, l, l, o]], dtype=np.float32)\n",
        "X_data.shape"
      ]
    },
    {
      "cell_type": "markdown",
      "metadata": {
        "id": "chAst4vhdAn_"
      },
      "source": [
        "Same as before, we can build RNN cell."
      ]
    },
    {
      "cell_type": "code",
      "execution_count": 7,
      "metadata": {
        "id": "uImC2m9pdAn_",
        "outputId": "b515b06a-3e79-47a9-b366-60f5ce51b6cf",
        "colab": {
          "base_uri": "https://localhost:8080/"
        }
      },
      "outputs": [
        {
          "output_type": "stream",
          "name": "stdout",
          "text": [
            "X_data: [[[1. 0. 0. 0.]\n",
            "  [0. 1. 0. 0.]\n",
            "  [0. 0. 1. 0.]\n",
            "  [0. 0. 1. 0.]\n",
            "  [0. 0. 0. 1.]]], shape: (1, 5, 4)\n",
            "\n",
            "output: [[[ 0.27097753  0.7526068 ]\n",
            "  [-0.18402556  0.3310005 ]\n",
            "  [ 0.39019778  0.5721705 ]\n",
            "  [ 0.13431062  0.836263  ]\n",
            "  [ 0.7391487   0.16480744]]], shape: (1, 5, 2)\n",
            "\n",
            "states: [[0.7391487  0.16480744]], shape: (1, 2)\n"
          ]
        }
      ],
      "source": [
        "cell = tf.keras.layers.SimpleRNNCell(units=hidden_size)\n",
        "rnn = tf.keras.layers.RNN(cell, return_sequences=True, return_state=True)\n",
        "outputs, states = rnn(X_data)\n",
        "\n",
        "print(\"X_data: {}, shape: {}\\n\".format(X_data, X_data.shape))\n",
        "print(\"output: {}, shape: {}\\n\".format(outputs, outputs.shape))\n",
        "print(\"states: {}, shape: {}\".format(states, states.shape))"
      ]
    },
    {
      "cell_type": "markdown",
      "metadata": {
        "id": "0Sk7vBrOdAn_"
      },
      "source": [
        "Output contains each hidden states while input data is processed in RNN cell. So the the last element in output is the same as states, since it is the latest states after process."
      ]
    },
    {
      "cell_type": "markdown",
      "metadata": {
        "id": "SOkr7MVTdAn_"
      },
      "source": [
        "## Batching Input\n",
        "Of course, we can extend the dataset with batch size.\n",
        "\n",
        "![example2](https://github.com/goodboychan/goodboychan.github.io/blob/main/_notebooks/image/rnn_example2.png?raw=1)\n",
        "\n",
        "Suppose that we have 3 batch data as inputs, and our input data is `hello`, `eolll`, and `lleel`. Don't worry about complex shape dataset. All the process is the same as before. All you need to do is to make the input dataset with appropriate shape. So in this case, we need to make (3, 5, 4)-shaped input.\n",
        "\n"
      ]
    },
    {
      "cell_type": "code",
      "execution_count": 8,
      "metadata": {
        "id": "oTuiWimydAoA",
        "outputId": "9591e648-84fa-401c-a807-c403da8eeb4b",
        "colab": {
          "base_uri": "https://localhost:8080/"
        }
      },
      "outputs": [
        {
          "output_type": "execute_result",
          "data": {
            "text/plain": [
              "(3, 5, 4)"
            ]
          },
          "metadata": {},
          "execution_count": 8
        }
      ],
      "source": [
        "X_data = np.array([[h, e, l, l, o],\n",
        "                   [e, o, l, l, l],\n",
        "                   [l, l, e, e, l]], dtype=np.float32)\n",
        "X_data.shape"
      ]
    },
    {
      "cell_type": "code",
      "execution_count": 9,
      "metadata": {
        "id": "KcGmmZLSdAoA",
        "outputId": "c23cd0b0-218b-4f18-e253-cd945064cf5c",
        "colab": {
          "base_uri": "https://localhost:8080/"
        }
      },
      "outputs": [
        {
          "output_type": "stream",
          "name": "stdout",
          "text": [
            "X_data: [[[1. 0. 0. 0.]\n",
            "  [0. 1. 0. 0.]\n",
            "  [0. 0. 1. 0.]\n",
            "  [0. 0. 1. 0.]\n",
            "  [0. 0. 0. 1.]]\n",
            "\n",
            " [[0. 1. 0. 0.]\n",
            "  [0. 0. 0. 1.]\n",
            "  [0. 0. 1. 0.]\n",
            "  [0. 0. 1. 0.]\n",
            "  [0. 0. 1. 0.]]\n",
            "\n",
            " [[0. 0. 1. 0.]\n",
            "  [0. 0. 1. 0.]\n",
            "  [0. 1. 0. 0.]\n",
            "  [0. 1. 0. 0.]\n",
            "  [0. 0. 1. 0.]]], shape: (3, 5, 4)\n",
            "\n",
            "output: [[[-0.5156224   0.35898373]\n",
            "  [ 0.15212457  0.02775879]\n",
            "  [-0.39157686 -0.02593066]\n",
            "  [ 0.12581399 -0.10759626]\n",
            "  [ 0.34998876  0.616439  ]]\n",
            "\n",
            " [[-0.25226462  0.4643481 ]\n",
            "  [ 0.5304369   0.07158946]\n",
            "  [-0.65902925  0.02489586]\n",
            "  [ 0.3567318  -0.21960385]\n",
            "  [-0.5012186   0.25826764]]\n",
            "\n",
            " [[-0.25372475 -0.03654187]\n",
            "  [-0.00449121 -0.06364252]\n",
            "  [-0.23339728  0.5105023 ]\n",
            "  [-0.15627259 -0.04941762]\n",
            "  [-0.09546486 -0.02720663]]], shape: (3, 5, 2)\n",
            "\n",
            "states: [[ 0.34998876  0.616439  ]\n",
            " [-0.5012186   0.25826764]\n",
            " [-0.09546486 -0.02720663]], shape: (3, 2)\n"
          ]
        }
      ],
      "source": [
        "cell = tf.keras.layers.SimpleRNNCell(units=hidden_size)\n",
        "rnn = tf.keras.layers.RNN(cell, return_sequences=True, return_state=True)\n",
        "outputs, states = rnn(X_data)\n",
        "\n",
        "print(\"X_data: {}, shape: {}\\n\".format(X_data, X_data.shape))\n",
        "print(\"output: {}, shape: {}\\n\".format(outputs, outputs.shape))\n",
        "print(\"states: {}, shape: {}\".format(states, states.shape))"
      ]
    },
    {
      "cell_type": "markdown",
      "metadata": {
        "id": "bh2IDiQgdAoA"
      },
      "source": [
        "Mentioned before, output contains each hidden states while processing the input data. Each hidden state affects the next hidden state and so on. Then the last hidden state will be states that outputs from RNN cell."
      ]
    },
    {
      "cell_type": "markdown",
      "metadata": {
        "id": "sP_0xY_QdAoA"
      },
      "source": [
        "## Summary\n",
        "Through this post, we covered simple usage of RNN cell and layers in Tensorflow. We just define the dataset with appropriate format, then the RNN layer can generates hidden states for the output that affects to next state."
      ]
    }
  ],
  "metadata": {
    "kernelspec": {
      "display_name": "Python 3",
      "language": "python",
      "name": "python3"
    },
    "language_info": {
      "codemirror_mode": {
        "name": "ipython",
        "version": 3
      },
      "file_extension": ".py",
      "mimetype": "text/x-python",
      "name": "python",
      "nbconvert_exporter": "python",
      "pygments_lexer": "ipython3",
      "version": "3.7.6"
    },
    "colab": {
      "provenance": [],
      "include_colab_link": true
    }
  },
  "nbformat": 4,
  "nbformat_minor": 0
}